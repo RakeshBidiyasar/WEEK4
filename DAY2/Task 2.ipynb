{
 "cells": [
  {
   "cell_type": "code",
   "execution_count": 2,
   "id": "4eb07917-d583-44a7-9cbe-31171fe33919",
   "metadata": {},
   "outputs": [
    {
     "name": "stdout",
     "output_type": "stream",
     "text": [
      "Selected Features: Index(['latitude', 'median_income', 'ocean_proximity_INLAND',\n",
      "       'ocean_proximity_NEAR BAY', 'ocean_proximity_NEAR OCEAN'],\n",
      "      dtype='object')\n"
     ]
    }
   ],
   "source": [
    "import pandas as pd\n",
    "from sklearn.impute import SimpleImputer\n",
    "from sklearn.preprocessing import OneHotEncoder, StandardScaler\n",
    "from sklearn.feature_selection import SelectKBest, f_regression\n",
    "from sklearn.model_selection import train_test_split\n",
    "\n",
    "df = pd.read_csv(\"housing.csv\")\n",
    "\n",
    "imputer = SimpleImputer(strategy=\"median\")\n",
    "df[\"total_bedrooms\"] = imputer.fit_transform(df[[\"total_bedrooms\"]])\n",
    "\n",
    "categorical_cols = [\"ocean_proximity\"]\n",
    "df = pd.get_dummies(df, columns=categorical_cols, drop_first=True)\n",
    "\n",
    "scaler = StandardScaler()\n",
    "numerical_cols = df.select_dtypes(include=[\"int64\", \"float64\"]).columns.drop(\"median_house_value\")\n",
    "df[numerical_cols] = scaler.fit_transform(df[numerical_cols])\n",
    "\n",
    "target = \"median_house_value\"\n",
    "y = df[target]\n",
    "X = df.drop(columns=[target])\n",
    "selector = SelectKBest(score_func=f_regression, k=5)\n",
    "X_selected = selector.fit_transform(X, y)\n",
    "\n",
    "selected_features = X.columns[selector.get_support()]\n",
    "print(\"Selected Features:\", selected_features)\n",
    "\n",
    "X_train, X_test, y_train, y_test = train_test_split(X_selected, y, test_size=0.2, random_state=42)"
   ]
  },
  {
   "cell_type": "code",
   "execution_count": null,
   "id": "ddbb6637-c6d8-470a-a9c0-1b40d5206347",
   "metadata": {},
   "outputs": [],
   "source": []
  }
 ],
 "metadata": {
  "kernelspec": {
   "display_name": "Python 3 (ipykernel)",
   "language": "python",
   "name": "python3"
  },
  "language_info": {
   "codemirror_mode": {
    "name": "ipython",
    "version": 3
   },
   "file_extension": ".py",
   "mimetype": "text/x-python",
   "name": "python",
   "nbconvert_exporter": "python",
   "pygments_lexer": "ipython3",
   "version": "3.13.2"
  }
 },
 "nbformat": 4,
 "nbformat_minor": 5
}
