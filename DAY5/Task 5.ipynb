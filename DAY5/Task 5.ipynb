{
 "cells": [
  {
   "cell_type": "code",
   "execution_count": 19,
   "id": "da086ca2-6f30-442d-b310-2246a2c7d080",
   "metadata": {},
   "outputs": [
    {
     "name": "stdout",
     "output_type": "stream",
     "text": [
      "Columns in dataset: Index(['tenure', 'age', 'address', 'income', 'ed', 'employ', 'equip',\n",
      "       'callcard', 'wireless', 'longmon', 'tollmon', 'equipmon', 'cardmon',\n",
      "       'wiremon', 'longten', 'tollten', 'cardten', 'voice', 'pager',\n",
      "       'internet', 'callwait', 'confer', 'ebill', 'loglong', 'logtoll',\n",
      "       'lninc', 'custcat', 'churn'],\n",
      "      dtype='object')\n",
      "LIME explanation saved to lime_explanation.html\n",
      "LIME Explanation for Sample Index: 0\n",
      "[('tenure <= 16.75', 0.20635791045269358), ('wiremon > 23.46', 0.12332716332780945), ('3.00 < employ <= 7.50', 0.09122123761353092), ('12.50 < cardmon <= 20.75', -0.08375704583739708), ('income > 80.00', -0.05551137832074229), ('longten <= 79.34', 0.05451528858719407), ('ebill <= 0.00', -0.05097587083845761), ('ed > 4.00', 0.049701935861180324), ('equipmon <= 0.00', -0.04618058983852433), ('31.00 < age <= 40.00', 0.04606795696314223)]\n"
     ]
    }
   ],
   "source": [
    "import lime\n",
    "import lime.lime_tabular\n",
    "import matplotlib.pyplot as plt\n",
    "import pandas as pd\n",
    "import xgboost as xgb\n",
    "import numpy as np\n",
    "\n",
    "# Load churn data\n",
    "file_path = \"ChurnData.csv\"\n",
    "data = pd.read_csv(file_path)\n",
    "\n",
    "# Print column names to verify target column name\n",
    "print(\"Columns in dataset:\", data.columns)\n",
    "\n",
    "# Identify the correct target column\n",
    "correct_target = [col for col in data.columns if 'churn' in col.lower()]\n",
    "if correct_target:\n",
    "    target_col = correct_target[0]\n",
    "else:\n",
    "    raise KeyError(\"Target column (Churn) not found in dataset.\")\n",
    "\n",
    "X = data.drop(columns=[target_col])\n",
    "y = data[target_col]\n",
    "\n",
    "# Train XGBoost model\n",
    "best_model = xgb.XGBClassifier()\n",
    "best_model.fit(X, y)\n",
    "\n",
    "# Create LIME explainer\n",
    "explainer = lime.lime_tabular.LimeTabularExplainer(\n",
    "    X.values, feature_names=X.columns, class_names=['Not Churn', 'Churn'], mode='classification'\n",
    ")\n",
    "\n",
    "# Explain a single instance (first sample)\n",
    "idx = 0  # Change index for different samples\n",
    "exp = explainer.explain_instance(X.iloc[idx].values, best_model.predict_proba)\n",
    "\n",
    "# Save LIME explanation to an HTML file\n",
    "exp.save_to_file(\"lime_explanation.html\")\n",
    "print(\"LIME explanation saved to lime_explanation.html\")\n",
    "\n",
    "# Document key findings\n",
    "print(\"LIME Explanation for Sample Index:\", idx)\n",
    "print(exp.as_list())"
   ]
  },
  {
   "cell_type": "code",
   "execution_count": null,
   "id": "ae204e1d-d3cd-422c-ba35-d497310507ce",
   "metadata": {},
   "outputs": [],
   "source": []
  },
  {
   "cell_type": "code",
   "execution_count": null,
   "id": "4d4a42ea-fbec-4ab3-ac67-497374c25a37",
   "metadata": {},
   "outputs": [],
   "source": []
  }
 ],
 "metadata": {
  "kernelspec": {
   "display_name": "Python 3 (ipykernel)",
   "language": "python",
   "name": "python3"
  },
  "language_info": {
   "codemirror_mode": {
    "name": "ipython",
    "version": 3
   },
   "file_extension": ".py",
   "mimetype": "text/x-python",
   "name": "python",
   "nbconvert_exporter": "python",
   "pygments_lexer": "ipython3",
   "version": "3.13.2"
  }
 },
 "nbformat": 4,
 "nbformat_minor": 5
}
